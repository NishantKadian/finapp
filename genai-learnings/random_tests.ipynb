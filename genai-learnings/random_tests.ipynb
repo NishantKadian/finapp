{
 "cells": [
  {
   "cell_type": "code",
   "execution_count": 4,
   "id": "86df71f5",
   "metadata": {},
   "outputs": [
    {
     "name": "stdout",
     "output_type": "stream",
     "text": [
      "Main: tasks scheduled, awaiting their completion\n",
      "Task Task_1: started, will sleep for 1 seconds\n",
      "Task Task_2: started, will sleep for 2 seconds\n",
      "Task Task_3: started, will sleep for 3 seconds\n",
      "Task Task_4: started, will sleep for 4 seconds\n",
      "Task Task_5: started, will sleep for 5 seconds\n",
      "Task Task_6: started, will sleep for 6 seconds\n",
      "Task Task_7: started, will sleep for 7 seconds\n",
      "Task Task_8: started, will sleep for 8 seconds\n",
      "Task Task_9: started, will sleep for 9 seconds\n",
      "Task Task_10: started, will sleep for 10 seconds\n",
      "Task Task_1: finished after 1 seconds\n",
      "Task Task_2: finished after 2 seconds\n",
      "Task Task_3: finished after 3 seconds\n",
      "Task Task_4: finished after 4 seconds\n",
      "Task Task_5: finished after 5 seconds\n",
      "Task Task_6: finished after 6 seconds\n",
      "Task Task_7: finished after 7 seconds\n",
      "Task Task_8: finished after 8 seconds\n",
      "Task Task_9: finished after 9 seconds\n",
      "Task Task_10: finished after 10 seconds\n",
      "Main: all tasks completed in 10.00 seconds\n"
     ]
    }
   ],
   "source": [
    "# learning async and await concept \n",
    "import nest_asyncio\n",
    "import asyncio\n",
    "import time\n",
    "nest_asyncio.apply()\n",
    "\n",
    "async def simulate_task(name, delay):\n",
    "    print(f\"Task {name}: started, will sleep for {delay} seconds\")\n",
    "    await asyncio.sleep(delay)\n",
    "    print(f\"Task {name}: finished after {delay} seconds\")\n",
    "\n",
    "async def main():\n",
    "    t1=time.time()\n",
    "    tasks = [asyncio.create_task(simulate_task(f\"Task_{i+1}\", i+1)) for i in range(10)]\n",
    "    print(\"Main: tasks scheduled, awaiting their completion\")\n",
    "    await asyncio.gather(*tasks)\n",
    "    t2 = time.time()\n",
    "    print(f\"Main: all tasks completed in {t2 - t1:.2f} seconds\")\n",
    "\n",
    "# Now we can safely call asyncio.run\n",
    "asyncio.run(main())"
   ]
  },
  {
   "cell_type": "code",
   "execution_count": 5,
   "id": "f7ba6b45",
   "metadata": {},
   "outputs": [
    {
     "name": "stdout",
     "output_type": "stream",
     "text": [
      "Main: starting tasks sequentially\n",
      "Task Task_1: started, will sleep for 1 seconds\n",
      "Task Task_1: finished after 1 seconds\n",
      "Task Task_2: started, will sleep for 2 seconds\n",
      "Task Task_2: finished after 2 seconds\n",
      "Task Task_3: started, will sleep for 3 seconds\n",
      "Task Task_3: finished after 3 seconds\n",
      "Task Task_4: started, will sleep for 4 seconds\n",
      "Task Task_4: finished after 4 seconds\n",
      "Task Task_5: started, will sleep for 5 seconds\n",
      "Task Task_5: finished after 5 seconds\n",
      "Task Task_6: started, will sleep for 6 seconds\n",
      "Task Task_6: finished after 6 seconds\n",
      "Task Task_7: started, will sleep for 7 seconds\n",
      "Task Task_7: finished after 7 seconds\n",
      "Task Task_8: started, will sleep for 8 seconds\n",
      "Task Task_8: finished after 8 seconds\n",
      "Task Task_9: started, will sleep for 9 seconds\n",
      "Task Task_9: finished after 9 seconds\n",
      "Task Task_10: started, will sleep for 10 seconds\n",
      "Task Task_10: finished after 10 seconds\n",
      "Main: all tasks completed in 55.01 seconds\n",
      "Main: all tasks completed\n"
     ]
    }
   ],
   "source": [
    "import time\n",
    "\n",
    "def simulate_task(name, delay):\n",
    "    print(f\"Task {name}: started, will sleep for {delay} seconds\")\n",
    "    time.sleep(delay)\n",
    "    print(f\"Task {name}: finished after {delay} seconds\")\n",
    "\n",
    "def main():\n",
    "    t1 = time.time()\n",
    "    print(\"Main: starting tasks sequentially\")\n",
    "    for i in range(10):\n",
    "        simulate_task(f\"Task_{i+1}\", i+1)\n",
    "    t2 = time.time()\n",
    "    print(f\"Main: all tasks completed in {t2 - t1:.2f} seconds\")\n",
    "    print(\"Main: all tasks completed\")\n",
    "\n",
    "if __name__ == \"__main__\":\n",
    "    main()"
   ]
  },
  {
   "cell_type": "code",
   "execution_count": 11,
   "id": "a481caf3",
   "metadata": {},
   "outputs": [
    {
     "name": "stdout",
     "output_type": "stream",
     "text": [
      "→ raw SSE event: b'event: endpoint'\n",
      "→ raw SSE event: b'data: /messages/?session_id=1f87d37c282b453aacccf01e0392234a'\n",
      "→ raw SSE event: b''\n",
      "→ raw SSE event: b': ping - 2025-06-15 16:44:18.374139+00:00'\n",
      "→ raw SSE event: b''\n",
      "→ raw SSE event: b': ping - 2025-06-15 16:44:33.375552+00:00'\n",
      "→ raw SSE event: b''\n",
      "→ raw SSE event: b'event: message'\n",
      "→ raw SSE event: b'data: {\"jsonrpc\":\"2.0\",\"id\":1,\"result\":{\"protocolVersion\":\"2024-11-05\",\"capabilities\":{\"experimental\":{},\"prompts\":{\"listChanged\":false},\"resources\":{\"subscribe\":false,\"listChanged\":false},\"tools\":{\"listChanged\":false}},\"serverInfo\":{\"name\":\"wiki\",\"version\":\"1.5.0\"}}}'\n",
      "→ raw SSE event: b''\n",
      "→ raw SSE event: b': ping - 2025-06-15 16:44:48.376331+00:00'\n",
      "→ raw SSE event: b''\n"
     ]
    }
   ],
   "source": [
    "import requests\n",
    "\n",
    "# 1. Open the SSE stream\n",
    "url = \"http://localhost:8001/sse\"\n",
    "headers = {\n",
    "    \"Accept\": \"text/event-stream\",   # tell the server we want an SSE stream\n",
    "}\n",
    "\n",
    "# stream=True keeps the connection open so we can iterate over incoming events\n",
    "with requests.get(url, headers=headers, stream=True) as resp:\n",
    "    resp.raise_for_status()\n",
    "\n",
    "    # 2. Iterate over each line sent by the server\n",
    "    for raw_line in resp.iter_lines():\n",
    "        print(\"→ raw SSE event:\", raw_line)\n",
    "        # if not raw_line:\n",
    "        #     # blank line = end of one SSE “message”\n",
    "        #     continue\n",
    "        # line = raw_line.decode(\"utf-8\")\n",
    "        # if line.startswith(\"data:\"):\n",
    "        #     # strip off the \"data: \" prefix\n",
    "        #     payload = line[len(\"data: \"):]\n",
    "        #     print(\"← SSE event payload:\", payload)"
   ]
  },
  {
   "cell_type": "code",
   "execution_count": 9,
   "id": "8be12d2a",
   "metadata": {},
   "outputs": [
    {
     "ename": "ModuleNotFoundError",
     "evalue": "No module named 'sseclient'",
     "output_type": "error",
     "traceback": [
      "\u001b[31m---------------------------------------------------------------------------\u001b[39m",
      "\u001b[31mModuleNotFoundError\u001b[39m                       Traceback (most recent call last)",
      "\u001b[36mCell\u001b[39m\u001b[36m \u001b[39m\u001b[32mIn[9]\u001b[39m\u001b[32m, line 1\u001b[39m\n\u001b[32m----> \u001b[39m\u001b[32m1\u001b[39m \u001b[38;5;28;01mfrom\u001b[39;00m\u001b[38;5;250m \u001b[39m\u001b[34;01msseclient\u001b[39;00m\u001b[38;5;250m \u001b[39m\u001b[38;5;28;01mimport\u001b[39;00m SSEClient\n\u001b[32m      2\u001b[39m \u001b[38;5;28;01mimport\u001b[39;00m\u001b[38;5;250m \u001b[39m\u001b[34;01mjson\u001b[39;00m\n\u001b[32m      4\u001b[39m EVENTS = SSEClient(\n\u001b[32m      5\u001b[39m     \u001b[33m\"\u001b[39m\u001b[33mhttp://localhost:8001/sse\u001b[39m\u001b[33m\"\u001b[39m,\n\u001b[32m      6\u001b[39m     headers={\u001b[33m\"\u001b[39m\u001b[33mAccept\u001b[39m\u001b[33m\"\u001b[39m: \u001b[33m\"\u001b[39m\u001b[33mtext/event-stream\u001b[39m\u001b[33m\"\u001b[39m},\n\u001b[32m      7\u001b[39m )\n",
      "\u001b[31mModuleNotFoundError\u001b[39m: No module named 'sseclient'"
     ]
    }
   ],
   "source": [
    "from sseclient import SSEClient\n",
    "import json\n",
    "\n",
    "EVENTS = SSEClient(\n",
    "    \"http://localhost:8001/sse\",\n",
    "    headers={\"Accept\": \"text/event-stream\"},\n",
    ")\n",
    "\n",
    "for evt in EVENTS:\n",
    "    if evt.event == \"endpoint\":\n",
    "        post_path = evt.data  # e.g. \"/messages/?session_id=…\"\n",
    "        break\n"
   ]
  },
  {
   "cell_type": "code",
   "execution_count": 1,
   "id": "92230ecf",
   "metadata": {},
   "outputs": [
    {
     "name": "stdout",
     "output_type": "stream",
     "text": [
      "→ raw SSE event: {\"jsonrpc\":\"2.0\",\"id\":1,\"result\":{\"protocolVersion\":\"2024-11-05\",\"capabilities\":{\"experimental\":{},\"prompts\":{\"listChanged\":false},\"resources\":{\"subscribe\":false,\"listChanged\":false},\"tools\":{\"listChanged\":false}},\"serverInfo\":{\"name\":\"wiki\",\"version\":\"1.5.0\"}}}\n",
      "Initialized: {\"jsonrpc\":\"2.0\",\"id\":1,\"result\":{\"protocolVersion\":\"2024-11-05\",\"capabilities\":{\"experimental\":{},\"prompts\":{\"listChanged\":false},\"resources\":{\"subscribe\":false,\"listChanged\":false},\"tools\":{\"listChanged\":false}},\"serverInfo\":{\"name\":\"wiki\",\"version\":\"1.5.0\"}}}\n"
     ]
    }
   ],
   "source": [
    "import requests, json\n",
    "from sseclient import SSEClient\n",
    "\n",
    "BASE = \"http://localhost:8001\"\n",
    "\n",
    "# 1) Start SSE & grab session_id\n",
    "events = SSEClient(f\"{BASE}/sse\", headers={\"Accept\":\"text/event-stream\"})\n",
    "for evt in events:\n",
    "    if evt.event == \"endpoint\":\n",
    "        post_path = evt.data               # e.g. \"/messages/?session_id=XYZ\"\n",
    "        break\n",
    "\n",
    "# Helper to post and (optionally) ignore empty body\n",
    "def post_rpc(payload):\n",
    "    return requests.post(f\"{BASE}{post_path}\", json=payload)\n",
    "\n",
    "# 2) Initialize\n",
    "init = {\n",
    "  \"jsonrpc\": \"2.0\",\n",
    "  \"method\":  \"initialize\",\n",
    "  \"params\":  {\n",
    "    \"protocolVersion\": \"1.0\",\n",
    "    \"clientInfo\":      {\"name\":\"cli\",\"version\":\"0.1\"},\n",
    "    \"capabilities\":    {}\n",
    "  },\n",
    "  \"id\": 1\n",
    "}\n",
    "post_rpc(init)\n",
    "\n",
    "# 3) Wait for initialize response (id=1)\n",
    "for evt in events:\n",
    "    print(\"→ raw SSE event:\", evt.data)\n",
    "    if evt.data and json.loads(evt.data).get(\"id\") == 1:\n",
    "        print(\"Initialized:\", evt.data)\n",
    "        break\n",
    "\n",
    "# 4) Now you can list tools\n",
    "# tools_list = {\n",
    "#   \"jsonrpc\": \"2.0\",\n",
    "#   \"method\":  \"tools/list\",\n",
    "#   \"params\":  {},\n",
    "#   \"id\":      2\n",
    "# }\n",
    "# post_rpc(tools_list)\n",
    "\n",
    "# # 5) Read tools/list response (id=2)\n",
    "# for evt in events:\n",
    "#     if evt.data:\n",
    "#         print(\"→ raw SSE event:\", evt.data)\n",
    "#         # msg = json.loads(evt.data)\n",
    "#         # if msg.get(\"id\") == 2:\n",
    "#         #     print(\"Tools:\", msg[\"result\"])\n",
    "#         #     break\n",
    "\n",
    "\n"
   ]
  },
  {
   "cell_type": "code",
   "execution_count": 2,
   "id": "53b5454f",
   "metadata": {},
   "outputs": [
    {
     "name": "stdout",
     "output_type": "stream",
     "text": [
      "end= call\n",
      "\n",
      "→ raw SSE event: /messages/?session_id=98570b4137b049d6bfd8b71e95bd2405\n"
     ]
    },
    {
     "ename": "KeyboardInterrupt",
     "evalue": "",
     "output_type": "error",
     "traceback": [
      "\u001b[31m---------------------------------------------------------------------------\u001b[39m",
      "\u001b[31mKeyboardInterrupt\u001b[39m                         Traceback (most recent call last)",
      "\u001b[36mCell\u001b[39m\u001b[36m \u001b[39m\u001b[32mIn[2]\u001b[39m\u001b[32m, line 12\u001b[39m\n\u001b[32m      9\u001b[39m \u001b[38;5;28mprint\u001b[39m(\u001b[33m\"\u001b[39m\u001b[33mend= call\u001b[39m\u001b[33m\"\u001b[39m)\n\u001b[32m     11\u001b[39m \u001b[38;5;66;03m# 7) Read sum result (id=3)\u001b[39;00m\n\u001b[32m---> \u001b[39m\u001b[32m12\u001b[39m \u001b[38;5;28;43;01mfor\u001b[39;49;00m\u001b[43m \u001b[49m\u001b[43mevt\u001b[49m\u001b[43m \u001b[49m\u001b[38;5;129;43;01min\u001b[39;49;00m\u001b[43m \u001b[49m\u001b[43mevents\u001b[49m\u001b[43m:\u001b[49m\n\u001b[32m     13\u001b[39m \u001b[43m    \u001b[49m\u001b[38;5;28;43;01mif\u001b[39;49;00m\u001b[43m \u001b[49m\u001b[43mevt\u001b[49m\u001b[43m.\u001b[49m\u001b[43mdata\u001b[49m\u001b[43m:\u001b[49m\n\u001b[32m     14\u001b[39m \u001b[43m        \u001b[49m\u001b[38;5;28;43mprint\u001b[39;49m\u001b[43m(\u001b[49m\u001b[33;43m\"\u001b[39;49m\u001b[33;43m→ raw SSE event:\u001b[39;49m\u001b[33;43m\"\u001b[39;49m\u001b[43m,\u001b[49m\u001b[43m \u001b[49m\u001b[43mevt\u001b[49m\u001b[43m.\u001b[49m\u001b[43mdata\u001b[49m\u001b[43m)\u001b[49m\n",
      "\u001b[36mFile \u001b[39m\u001b[32mc:\\Users\\nisha\\nk_workspace\\pdf-extraction\\.venv\\Lib\\site-packages\\sseclient.py:92\u001b[39m, in \u001b[36mSSEClient.__next__\u001b[39m\u001b[34m(self)\u001b[39m\n\u001b[32m     90\u001b[39m \u001b[38;5;28;01mwhile\u001b[39;00m \u001b[38;5;129;01mnot\u001b[39;00m \u001b[38;5;28mself\u001b[39m._event_complete():\n\u001b[32m     91\u001b[39m     \u001b[38;5;28;01mtry\u001b[39;00m:\n\u001b[32m---> \u001b[39m\u001b[32m92\u001b[39m         next_chunk = \u001b[38;5;28;43mnext\u001b[39;49m\u001b[43m(\u001b[49m\u001b[38;5;28;43mself\u001b[39;49m\u001b[43m.\u001b[49m\u001b[43mresp_iterator\u001b[49m\u001b[43m)\u001b[49m\n\u001b[32m     93\u001b[39m         \u001b[38;5;28;01mif\u001b[39;00m \u001b[38;5;129;01mnot\u001b[39;00m next_chunk:\n\u001b[32m     94\u001b[39m             \u001b[38;5;28;01mraise\u001b[39;00m \u001b[38;5;167;01mEOFError\u001b[39;00m()\n",
      "\u001b[36mFile \u001b[39m\u001b[32mc:\\Users\\nisha\\nk_workspace\\pdf-extraction\\.venv\\Lib\\site-packages\\sseclient.py:71\u001b[39m, in \u001b[36mSSEClient.iter_content.<locals>.generate\u001b[39m\u001b[34m()\u001b[39m\n\u001b[32m     67\u001b[39m \u001b[38;5;28;01mwhile\u001b[39;00m \u001b[38;5;28;01mTrue\u001b[39;00m:\n\u001b[32m     68\u001b[39m     \u001b[38;5;28;01mif\u001b[39;00m \u001b[38;5;28mhasattr\u001b[39m(\u001b[38;5;28mself\u001b[39m.resp.raw, \u001b[33m'\u001b[39m\u001b[33m_fp\u001b[39m\u001b[33m'\u001b[39m) \u001b[38;5;129;01mand\u001b[39;00m \\\n\u001b[32m     69\u001b[39m             \u001b[38;5;28mhasattr\u001b[39m(\u001b[38;5;28mself\u001b[39m.resp.raw._fp, \u001b[33m'\u001b[39m\u001b[33mfp\u001b[39m\u001b[33m'\u001b[39m) \u001b[38;5;129;01mand\u001b[39;00m \\\n\u001b[32m     70\u001b[39m             \u001b[38;5;28mhasattr\u001b[39m(\u001b[38;5;28mself\u001b[39m.resp.raw._fp.fp, \u001b[33m'\u001b[39m\u001b[33mread1\u001b[39m\u001b[33m'\u001b[39m):\n\u001b[32m---> \u001b[39m\u001b[32m71\u001b[39m         chunk = \u001b[38;5;28;43mself\u001b[39;49m\u001b[43m.\u001b[49m\u001b[43mresp\u001b[49m\u001b[43m.\u001b[49m\u001b[43mraw\u001b[49m\u001b[43m.\u001b[49m\u001b[43m_fp\u001b[49m\u001b[43m.\u001b[49m\u001b[43mfp\u001b[49m\u001b[43m.\u001b[49m\u001b[43mread1\u001b[49m\u001b[43m(\u001b[49m\u001b[38;5;28;43mself\u001b[39;49m\u001b[43m.\u001b[49m\u001b[43mchunk_size\u001b[49m\u001b[43m)\u001b[49m\n\u001b[32m     72\u001b[39m     \u001b[38;5;28;01melse\u001b[39;00m:\n\u001b[32m     73\u001b[39m         \u001b[38;5;66;03m# _fp is not available, this means that we cannot use short\u001b[39;00m\n\u001b[32m     74\u001b[39m         \u001b[38;5;66;03m# reads and this will block until the full chunk size is\u001b[39;00m\n\u001b[32m     75\u001b[39m         \u001b[38;5;66;03m# actually read\u001b[39;00m\n\u001b[32m     76\u001b[39m         chunk = \u001b[38;5;28mself\u001b[39m.resp.raw.read(\u001b[38;5;28mself\u001b[39m.chunk_size)\n",
      "\u001b[36mFile \u001b[39m\u001b[32m~\\AppData\\Local\\Programs\\Python\\Python313\\Lib\\socket.py:719\u001b[39m, in \u001b[36mSocketIO.readinto\u001b[39m\u001b[34m(self, b)\u001b[39m\n\u001b[32m    717\u001b[39m     \u001b[38;5;28;01mraise\u001b[39;00m \u001b[38;5;167;01mOSError\u001b[39;00m(\u001b[33m\"\u001b[39m\u001b[33mcannot read from timed out object\u001b[39m\u001b[33m\"\u001b[39m)\n\u001b[32m    718\u001b[39m \u001b[38;5;28;01mtry\u001b[39;00m:\n\u001b[32m--> \u001b[39m\u001b[32m719\u001b[39m     \u001b[38;5;28;01mreturn\u001b[39;00m \u001b[38;5;28;43mself\u001b[39;49m\u001b[43m.\u001b[49m\u001b[43m_sock\u001b[49m\u001b[43m.\u001b[49m\u001b[43mrecv_into\u001b[49m\u001b[43m(\u001b[49m\u001b[43mb\u001b[49m\u001b[43m)\u001b[49m\n\u001b[32m    720\u001b[39m \u001b[38;5;28;01mexcept\u001b[39;00m timeout:\n\u001b[32m    721\u001b[39m     \u001b[38;5;28mself\u001b[39m._timeout_occurred = \u001b[38;5;28;01mTrue\u001b[39;00m\n",
      "\u001b[31mKeyboardInterrupt\u001b[39m: "
     ]
    }
   ],
   "source": [
    "# 6) Finally call your sum tool\n",
    "call = {\n",
    "  \"jsonrpc\": \"2.0\",\n",
    "  \"method\":  \"tools/call\",\n",
    "  \"params\":  {\"name\":\"sum\",\"args\":{\"x\":42,\"y\":58},\"kwargs\":{}},\n",
    "  \"id\":      3\n",
    "}\n",
    "post_rpc(call)\n",
    "print(\"end= call\")\n",
    "\n",
    "# 7) Read sum result (id=3)\n",
    "for evt in events:\n",
    "    if evt.data:\n",
    "        print(\"→ raw SSE event:\", evt.data)\n",
    "        # msg = json.loads(evt.data)\n",
    "        # if msg.get(\"id\") == 3:\n",
    "        #     print(\"Sum result:\", msg[\"result\"])\n",
    "        #     break\n",
    "\n",
    "\n",
    "#events.close()"
   ]
  },
  {
   "cell_type": "code",
   "execution_count": 1,
   "id": "a43b1bf4",
   "metadata": {},
   "outputs": [
    {
     "ename": "JSONDecodeError",
     "evalue": "Expecting value: line 1 column 1 (char 0)",
     "output_type": "error",
     "traceback": [
      "\u001b[31m---------------------------------------------------------------------------\u001b[39m",
      "\u001b[31mJSONDecodeError\u001b[39m                           Traceback (most recent call last)",
      "\u001b[36mCell\u001b[39m\u001b[36m \u001b[39m\u001b[32mIn[1]\u001b[39m\u001b[32m, line 46\u001b[39m\n\u001b[32m     44\u001b[39m \u001b[38;5;28;01mif\u001b[39;00m \u001b[38;5;129;01mnot\u001b[39;00m evt.data \u001b[38;5;129;01mand\u001b[39;00m \u001b[33m\"\u001b[39m\u001b[33mmessage\u001b[39m\u001b[33m\"\u001b[39m \u001b[38;5;129;01mnot\u001b[39;00m \u001b[38;5;129;01min\u001b[39;00m evt.event:\n\u001b[32m     45\u001b[39m     \u001b[38;5;28;01mcontinue\u001b[39;00m\n\u001b[32m---> \u001b[39m\u001b[32m46\u001b[39m msg = \u001b[43mjson\u001b[49m\u001b[43m.\u001b[49m\u001b[43mloads\u001b[49m\u001b[43m(\u001b[49m\u001b[43mevt\u001b[49m\u001b[43m.\u001b[49m\u001b[43mdata\u001b[49m\u001b[43m)\u001b[49m\n\u001b[32m     47\u001b[39m \u001b[38;5;28;01mif\u001b[39;00m msg.get(\u001b[33m\"\u001b[39m\u001b[33mid\u001b[39m\u001b[33m\"\u001b[39m) == \u001b[32m1\u001b[39m:\n\u001b[32m     48\u001b[39m     \u001b[38;5;66;03m# initialization complete → now call sum\u001b[39;00m\n\u001b[32m     49\u001b[39m     post_rpc(call_sum)\n",
      "\u001b[36mFile \u001b[39m\u001b[32m~\\AppData\\Local\\Programs\\Python\\Python313\\Lib\\json\\__init__.py:346\u001b[39m, in \u001b[36mloads\u001b[39m\u001b[34m(s, cls, object_hook, parse_float, parse_int, parse_constant, object_pairs_hook, **kw)\u001b[39m\n\u001b[32m    341\u001b[39m     s = s.decode(detect_encoding(s), \u001b[33m'\u001b[39m\u001b[33msurrogatepass\u001b[39m\u001b[33m'\u001b[39m)\n\u001b[32m    343\u001b[39m \u001b[38;5;28;01mif\u001b[39;00m (\u001b[38;5;28mcls\u001b[39m \u001b[38;5;129;01mis\u001b[39;00m \u001b[38;5;28;01mNone\u001b[39;00m \u001b[38;5;129;01mand\u001b[39;00m object_hook \u001b[38;5;129;01mis\u001b[39;00m \u001b[38;5;28;01mNone\u001b[39;00m \u001b[38;5;129;01mand\u001b[39;00m\n\u001b[32m    344\u001b[39m         parse_int \u001b[38;5;129;01mis\u001b[39;00m \u001b[38;5;28;01mNone\u001b[39;00m \u001b[38;5;129;01mand\u001b[39;00m parse_float \u001b[38;5;129;01mis\u001b[39;00m \u001b[38;5;28;01mNone\u001b[39;00m \u001b[38;5;129;01mand\u001b[39;00m\n\u001b[32m    345\u001b[39m         parse_constant \u001b[38;5;129;01mis\u001b[39;00m \u001b[38;5;28;01mNone\u001b[39;00m \u001b[38;5;129;01mand\u001b[39;00m object_pairs_hook \u001b[38;5;129;01mis\u001b[39;00m \u001b[38;5;28;01mNone\u001b[39;00m \u001b[38;5;129;01mand\u001b[39;00m \u001b[38;5;129;01mnot\u001b[39;00m kw):\n\u001b[32m--> \u001b[39m\u001b[32m346\u001b[39m     \u001b[38;5;28;01mreturn\u001b[39;00m \u001b[43m_default_decoder\u001b[49m\u001b[43m.\u001b[49m\u001b[43mdecode\u001b[49m\u001b[43m(\u001b[49m\u001b[43ms\u001b[49m\u001b[43m)\u001b[49m\n\u001b[32m    347\u001b[39m \u001b[38;5;28;01mif\u001b[39;00m \u001b[38;5;28mcls\u001b[39m \u001b[38;5;129;01mis\u001b[39;00m \u001b[38;5;28;01mNone\u001b[39;00m:\n\u001b[32m    348\u001b[39m     \u001b[38;5;28mcls\u001b[39m = JSONDecoder\n",
      "\u001b[36mFile \u001b[39m\u001b[32m~\\AppData\\Local\\Programs\\Python\\Python313\\Lib\\json\\decoder.py:345\u001b[39m, in \u001b[36mJSONDecoder.decode\u001b[39m\u001b[34m(self, s, _w)\u001b[39m\n\u001b[32m    340\u001b[39m \u001b[38;5;28;01mdef\u001b[39;00m\u001b[38;5;250m \u001b[39m\u001b[34mdecode\u001b[39m(\u001b[38;5;28mself\u001b[39m, s, _w=WHITESPACE.match):\n\u001b[32m    341\u001b[39m \u001b[38;5;250m    \u001b[39m\u001b[33;03m\"\"\"Return the Python representation of ``s`` (a ``str`` instance\u001b[39;00m\n\u001b[32m    342\u001b[39m \u001b[33;03m    containing a JSON document).\u001b[39;00m\n\u001b[32m    343\u001b[39m \n\u001b[32m    344\u001b[39m \u001b[33;03m    \"\"\"\u001b[39;00m\n\u001b[32m--> \u001b[39m\u001b[32m345\u001b[39m     obj, end = \u001b[38;5;28;43mself\u001b[39;49m\u001b[43m.\u001b[49m\u001b[43mraw_decode\u001b[49m\u001b[43m(\u001b[49m\u001b[43ms\u001b[49m\u001b[43m,\u001b[49m\u001b[43m \u001b[49m\u001b[43midx\u001b[49m\u001b[43m=\u001b[49m\u001b[43m_w\u001b[49m\u001b[43m(\u001b[49m\u001b[43ms\u001b[49m\u001b[43m,\u001b[49m\u001b[43m \u001b[49m\u001b[32;43m0\u001b[39;49m\u001b[43m)\u001b[49m\u001b[43m.\u001b[49m\u001b[43mend\u001b[49m\u001b[43m(\u001b[49m\u001b[43m)\u001b[49m\u001b[43m)\u001b[49m\n\u001b[32m    346\u001b[39m     end = _w(s, end).end()\n\u001b[32m    347\u001b[39m     \u001b[38;5;28;01mif\u001b[39;00m end != \u001b[38;5;28mlen\u001b[39m(s):\n",
      "\u001b[36mFile \u001b[39m\u001b[32m~\\AppData\\Local\\Programs\\Python\\Python313\\Lib\\json\\decoder.py:363\u001b[39m, in \u001b[36mJSONDecoder.raw_decode\u001b[39m\u001b[34m(self, s, idx)\u001b[39m\n\u001b[32m    361\u001b[39m     obj, end = \u001b[38;5;28mself\u001b[39m.scan_once(s, idx)\n\u001b[32m    362\u001b[39m \u001b[38;5;28;01mexcept\u001b[39;00m \u001b[38;5;167;01mStopIteration\u001b[39;00m \u001b[38;5;28;01mas\u001b[39;00m err:\n\u001b[32m--> \u001b[39m\u001b[32m363\u001b[39m     \u001b[38;5;28;01mraise\u001b[39;00m JSONDecodeError(\u001b[33m\"\u001b[39m\u001b[33mExpecting value\u001b[39m\u001b[33m\"\u001b[39m, s, err.value) \u001b[38;5;28;01mfrom\u001b[39;00m\u001b[38;5;250m \u001b[39m\u001b[38;5;28;01mNone\u001b[39;00m\n\u001b[32m    364\u001b[39m \u001b[38;5;28;01mreturn\u001b[39;00m obj, end\n",
      "\u001b[31mJSONDecodeError\u001b[39m: Expecting value: line 1 column 1 (char 0)"
     ]
    }
   ],
   "source": [
    "import requests, json\n",
    "from sseclient import SSEClient\n",
    "\n",
    "BASE = \"http://localhost:8001\"\n",
    "\n",
    "# 1) Open SSE & grab session_id\n",
    "sse = SSEClient(f\"{BASE}/sse\", headers={\"Accept\":\"text/event-stream\"})\n",
    "session_path = None\n",
    "for evt in sse:\n",
    "    if evt.event == \"endpoint\":\n",
    "        session_path = evt.data             # e.g. \"/messages/?session_id=…\"\n",
    "        break\n",
    "\n",
    "def post_rpc(payload):\n",
    "    return requests.post(f\"{BASE}{session_path}\", json=payload)\n",
    "\n",
    "# 2) Send initialize (id=1)\n",
    "init = {\n",
    "    \"jsonrpc\": \"2.0\",\n",
    "    \"method\":  \"initialize\",\n",
    "    \"params\":  {\n",
    "        \"protocolVersion\": \"1.0\",\n",
    "        \"clientInfo\":      {\"name\":\"cli\",\"version\":\"0.1\"},\n",
    "        \"capabilities\":    {}\n",
    "    },\n",
    "    \"id\": 1\n",
    "}\n",
    "post_rpc(init)\n",
    "\n",
    "# 3) Prepare your call_sum (use id=2)\n",
    "call_sum = {\n",
    "    \"jsonrpc\": \"2.0\",\n",
    "    \"method\":  \"tools/call\",\n",
    "    \"params\":  {\n",
    "        \"name\":   \"sum\",\n",
    "        \"args\":   {\"x\": 42, \"y\": 58},\n",
    "        \"kwargs\": {}\n",
    "    },\n",
    "    \"id\":      2\n",
    "}\n",
    "\n",
    "# 4) Drive the loop: when you see initialize's response, fire call_sum\n",
    "for evt in sse:\n",
    "    if not evt.data and \"message\" not in evt.event:\n",
    "        continue\n",
    "    msg = json.loads(evt.data)\n",
    "    if msg.get(\"id\") == 1:\n",
    "        # initialization complete → now call sum\n",
    "        post_rpc(call_sum)\n",
    "        continue\n",
    "\n",
    "    if msg.get(\"id\") == 2:\n",
    "        # sum result arrived\n",
    "        print(\"➕ sum(42,58) =\", msg[\"result\"])\n",
    "        break\n",
    "\n",
    "sse.close()\n"
   ]
  },
  {
   "cell_type": "code",
   "execution_count": null,
   "id": "4aba5efa",
   "metadata": {},
   "outputs": [
    {
     "ename": "SyntaxError",
     "evalue": "invalid character '…' (U+2026) (472672297.py, line 23)",
     "output_type": "error",
     "traceback": [
      "  \u001b[36mCell\u001b[39m\u001b[36m \u001b[39m\u001b[32mIn[1]\u001b[39m\u001b[32m, line 23\u001b[39m\n\u001b[31m    \u001b[39m\u001b[31m…\u001b[39m\n    ^\n\u001b[31mSyntaxError\u001b[39m\u001b[31m:\u001b[39m invalid character '…' (U+2026)\n"
     ]
    }
   ],
   "source": [
    "import json\n",
    "from sseclient import SSEClient\n",
    "\n",
    "sse = SSEClient(\"http://localhost:8001/sse\", headers={\"Accept\":\"text/event-stream\"})\n",
    "\n",
    "# … after grabbing session_path and posting your RPC …\n",
    "\n",
    "for evt in sse:\n",
    "    raw = (evt.data or \"\").strip()\n",
    "    # skip blank or non-JSON events\n",
    "    if not raw or not raw.startswith(\"{\"):\n",
    "        continue\n",
    "\n",
    "    try:\n",
    "        msg = json.loads(raw)\n",
    "    except json.JSONDecodeError:\n",
    "        # not valid JSON, ignore\n",
    "        continue\n",
    "\n",
    "    if msg.get(\"id\") == 1:\n",
    "        # initialization complete → now call sum\n",
    "        post_rpc(call_sum)\n",
    "        continue\n",
    "\n",
    "    if msg.get(\"id\") == 2:\n",
    "        # sum result arrived\n",
    "        print(\"➕ sum(42,58) =\", msg[\"result\"])\n",
    "        break\n",
    "\n",
    "sse.close()"
   ]
  }
 ],
 "metadata": {
  "kernelspec": {
   "display_name": ".venv",
   "language": "python",
   "name": "python3"
  },
  "language_info": {
   "codemirror_mode": {
    "name": "ipython",
    "version": 3
   },
   "file_extension": ".py",
   "mimetype": "text/x-python",
   "name": "python",
   "nbconvert_exporter": "python",
   "pygments_lexer": "ipython3",
   "version": "3.13.3"
  }
 },
 "nbformat": 4,
 "nbformat_minor": 5
}
