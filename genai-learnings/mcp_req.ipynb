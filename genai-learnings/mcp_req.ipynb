{
 "cells": [
  {
   "cell_type": "code",
   "execution_count": null,
   "id": "dd288105",
   "metadata": {},
   "outputs": [
    {
     "name": "stdout",
     "output_type": "stream",
     "text": [
      "Status: 400\n",
      "Body  : session_id is required\n"
     ]
    }
   ],
   "source": [
    "import json\n",
    "import requests\n",
    "\n",
    "# 1. Build your JSON-RPC payload\n",
    "payload = {\n",
    "    \"jsonrpc\": \"2.0\",\n",
    "    \"method\": \"sum\",\n",
    "    \"params\": [42, 58],\n",
    "    \"id\": 1\n",
    "}\n",
    "\n",
    "# 2. Frame it as an SSE event\n",
    "body = f\"data: {json.dumps(payload)}\\n\\n\"\n",
    "\n",
    "# 3. POST it with the proper content-type\n",
    "response = requests.post(\n",
    "    \"http://localhost:8001/messages/?session_id=d84e058e38314e2d8015ba11b257ba84\",\n",
    "    headers={\"Content-Type\": \"text/event-stream\"},\n",
    "    data=body\n",
    ")\n",
    "\n",
    "print(\"Status:\", response.status_code)\n",
    "print(\"Body  :\", response.text)\n",
    "\n"
   ]
  }
 ],
 "metadata": {
  "kernelspec": {
   "display_name": ".venv",
   "language": "python",
   "name": "python3"
  },
  "language_info": {
   "codemirror_mode": {
    "name": "ipython",
    "version": 3
   },
   "file_extension": ".py",
   "mimetype": "text/x-python",
   "name": "python",
   "nbconvert_exporter": "python",
   "pygments_lexer": "ipython3",
   "version": "3.13.3"
  }
 },
 "nbformat": 4,
 "nbformat_minor": 5
}
